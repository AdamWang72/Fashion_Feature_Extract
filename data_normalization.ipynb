{
 "cells": [
  {
   "cell_type": "code",
   "execution_count": 54,
   "metadata": {},
   "outputs": [],
   "source": [
    "#data&labels\n",
    "import pandas as pd\n",
    "import os\n",
    "\n",
    "IO = './data/fashion144k.xlsx'\n",
    "Img_path ='./data/Fashion144k_stylenet_v1/photos/' \n",
    "class data_normalization:\n",
    "    def __init__(self,IO,Img_path,column):\n",
    "        self.io = IO\n",
    "        self.img_path = Img_path\n",
    "        self.column = column\n",
    "    def data_load(self):\n",
    "        self.sheet = pd.read_excel(io=self.io,sheet_name=0)\n",
    "        #print(self.sheet)\n",
    "    def data_info(self):\n",
    "        namelist = self.sheet.iloc[:1000,0].tolist()\n",
    "        #print(namelist[2])\n",
    "        syslist = os.listdir(self.img_path)\n",
    "        syslist.sort()\n",
    "        syslist_va = []\n",
    "        i = 0\n",
    "        while i < len(syslist) and len(namelist) > 0:\n",
    "            if str(namelist[0]) in syslist[i]:\n",
    "                namelist.pop(0)\n",
    "                syslist_va.append(syslist.pop(i))\n",
    "                continue\n",
    "            i += 1\n",
    "        return syslist_va\n",
    "    def data_param(self):\n",
    "        namelist = self.sheet.iloc[:1000,self.column].tolist()\n",
    "        return namelist"
   ]
  },
  {
   "cell_type": "code",
   "execution_count": 80,
   "metadata": {},
   "outputs": [],
   "source": [
    "DN_name = data_normalization(IO,Img_path,0)\n",
    "DN_name.data_load()\n",
    "name_list = DN_name.data_info()\n",
    "with open('./train.txt','w') as f:\n",
    "    for i in range(0,800):\n",
    "        f.write(name_list[i])\n",
    "        f.write('\\r\\n')"
   ]
  },
  {
   "cell_type": "code",
   "execution_count": 81,
   "metadata": {},
   "outputs": [],
   "source": [
    "DN_name = data_normalization(IO,Img_path,0)\n",
    "DN_name.data_load()\n",
    "name_list = DN_name.data_info()\n",
    "with open('./val.txt','w') as f:\n",
    "    for i in range(800,1000):\n",
    "        f.write(name_list[i])\n",
    "        f.write('\\r\\n')"
   ]
  },
  {
   "cell_type": "code",
   "execution_count": 62,
   "metadata": {},
   "outputs": [
    {
     "name": "stdout",
     "output_type": "stream",
     "text": [
      "6.0\n"
     ]
    }
   ],
   "source": [
    "DN_age = data_normalization(IO,Img_path,1)\n",
    "DN_age.data_load()\n",
    "age_list = DN_age.data_param()\n",
    "print(age_list[1])"
   ]
  },
  {
   "cell_type": "code",
   "execution_count": 63,
   "metadata": {},
   "outputs": [
    {
     "name": "stdout",
     "output_type": "stream",
     "text": [
      "f\n"
     ]
    }
   ],
   "source": [
    "DN_sex = data_normalization(IO,Img_path,2)\n",
    "DN_sex.data_load()\n",
    "sex_list = DN_sex.data_param()\n",
    "print(sex_list[1])"
   ]
  },
  {
   "cell_type": "code",
   "execution_count": 14,
   "metadata": {},
   "outputs": [
    {
     "name": "stdout",
     "output_type": "stream",
     "text": [
      "['accessories', 'amethyst', 'aquamarine', 'army green', 'bag', 'beige', 'belt', 'black', 'blazer', 'blouse', 'blue', 'bodysuit', 'boots', 'bra', 'bracelet', 'brick red', 'bronze', 'brown', 'bubble gum', 'burnt orange', 'camel', 'cape', 'cardigan', 'carrot orange', 'charcoal gray', 'chartreuse', 'clogs', 'coat', 'coral', 'cream', 'crimson', 'dark brown', 'dark gray', 'dark green', 'dark khaki', 'deep purple', 'dress', 'earrings', 'eggshell', 'flats', 'forest green', 'glasses', 'gloves', 'gold', 'gray', 'green', 'hair accessory', 'hat', 'heather gray', 'heels', 'home decor', 'hoodie', 'hot pink', 'intimate', 'ivory', 'jacket', 'jeans', 'jumper', 'leggings', 'light blue', 'light brown', 'light orange', 'light pink', 'light purple', 'light yellow', 'lime green', 'loafers', 'magenta', 'maroon', 'mustard', 'navy', 'necklace', 'neutral', 'nude', 'off white', 'olive green', 'orange', 'panties', 'pants', 'peach', 'periwinkle', 'pink', 'puce', 'pumps', 'purple', 'purse', 'red', 'ring', 'romper', 'ruby red', 'salmon', 'sandals', 'scarf', 'shirt', 'shoes', 'shorts', 'silver', 'skirt', 'sky blue', 'sneakers', 'socks', 'stockings', 'suit', 'sunglasses', 'sweater', 'sweatshirt', 'swimwear', 't__shirt', 'tan', 'tawny', 'teal', 'tie', 'tights', 'top', 'turquoise blue', 'vest', 'violet', 'wallet', 'watch', 'wedges', 'white', 'yellow', 'iphone cas']\n"
     ]
    }
   ],
   "source": [
    "labels = []\n",
    "with open('./data/Fashion144k_stylenet_v1/feat/singles.txt', 'r') as f:\n",
    "    lines = f.readlines()\n",
    "    line_num = len(lines)\n",
    "    for line in lines:\n",
    "        labels.append(line[:-1].lower())\n",
    "print(labels)\n",
    "    "
   ]
  },
  {
   "cell_type": "code",
   "execution_count": 27,
   "metadata": {},
   "outputs": [
    {
     "name": "stdout",
     "output_type": "stream",
     "text": [
      "['accessories', 'amethyst', 'aquamarine', 'bag', 'beige', 'belt', 'black', 'blazer', 'blouse', 'blue', 'bodysuit', 'boots', 'bra', 'bracelet', 'bronze', 'brown', 'camel', 'cape', 'cardigan', 'chartreuse', 'coat', 'coral', 'cream', 'crimson', 'dress', 'earrings', 'eggshell', 'flats', 'glasses', 'gloves', 'gold', 'gray', 'green', 'hat', 'heels', 'ivory', 'jacket', 'jeans', 'jumper', 'leggings', 'loafers', 'magenta', 'maroon', 'mustard', 'navy', 'necklace', 'neutral', 'nude', 'orange', 'pants', 'peach', 'periwinkle', 'pink', 'puce', 'pumps', 'purple', 'purse', 'red', 'romper', 'salmon', 'sandals', 'scarf', 'shirt', 'shoes', 'shorts', 'silver', 'skirt', 'sneakers', 'socks', 'stockings', 'suit', 'sunglasses', 'sweater', 'sweatshirt', 'swimwear', 'tan', 'tawny', 'teal', 'tie', 'tights', 'top', 'vest', 'violet', 'watch', 'wedges', 'white', 'yellow', 'f', 'm', '3', '4', '5', '6', '7']\n"
     ]
    }
   ],
   "source": [
    "DN = data_normalization(IO,Img_path)\n",
    "DN.data_load()\n",
    "data_list = DN.data_info()\n",
    "feat = []\n",
    "temp = []\n",
    "true_labels = []\n",
    "for d in data_list:\n",
    "    temp = d.split('-')\n",
    "    for t in temp:\n",
    "        if t in labels:\n",
    "            true_labels.append(t)\n",
    "true_labels = set(true_labels)\n",
    "new_labels = sorted(list(true_labels))\n",
    "last = ['f','m','3','4','5','6','7']\n",
    "new_labels += (last)\n",
    "print(new_labels)"
   ]
  },
  {
   "cell_type": "code",
   "execution_count": 82,
   "metadata": {},
   "outputs": [
    {
     "name": "stdout",
     "output_type": "stream",
     "text": [
      "94\n"
     ]
    }
   ],
   "source": [
    "print(len(new_labels))"
   ]
  },
  {
   "cell_type": "code",
   "execution_count": 66,
   "metadata": {},
   "outputs": [
    {
     "name": "stdout",
     "output_type": "stream",
     "text": [
      "['1259706429', 'red', 'accessories', 'black', 'target', 't', 'shirt', 'black', 'moms', 'accessories', 'blue', 'bdg', 'jeans_400.jpg']\n",
      "red\n",
      "accessories\n",
      "black\n",
      "shirt\n",
      "black\n",
      "accessories\n",
      "blue\n"
     ]
    }
   ],
   "source": [
    "string1 = '1259706429-red-accessories-black-target-t-shirt-black-moms-accessories-blue-bdg-jeans_400.jpg'\n",
    "string1 = string1.split('-')\n",
    "print(string1)\n",
    "for st in string1:\n",
    "    if st in labels:\n",
    "        print(st)"
   ]
  },
  {
   "cell_type": "code",
   "execution_count": 9,
   "metadata": {},
   "outputs": [
    {
     "name": "stdout",
     "output_type": "stream",
     "text": [
      "1000\n"
     ]
    }
   ],
   "source": [
    "labeled_list_url =  './data/Fashion144k_relabel/img2'\n",
    "labeled_list = os.listdir(labeled_list_url)\n",
    "print(len(labeled_list))"
   ]
  },
  {
   "cell_type": "code",
   "execution_count": 10,
   "metadata": {},
   "outputs": [
    {
     "name": "stdout",
     "output_type": "stream",
     "text": [
      "1000\n"
     ]
    }
   ],
   "source": [
    "DN = data_normalization(IO,Img_path)\n",
    "DN.data_load()\n",
    "data_list = DN.data_info()\n",
    "print(len(data_list))\n",
    "for d in data_list:\n",
    "    if d not in labeled_list:\n",
    "        print(d)\n",
    "    "
   ]
  },
  {
   "cell_type": "code",
   "execution_count": 72,
   "metadata": {},
   "outputs": [],
   "source": [
    "#导出文件名和标签到txt文件\n",
    "labeled_list_url =  './data/Fashion144k_relabel/img2'\n",
    "labeled_list = os.listdir(labeled_list_url)\n",
    "labeled_list = sorted(labeled_list)\n",
    "with open('./data.txt','w') as f:   \n",
    "      \n",
    "    for j in range(len(labeled_list)):\n",
    "        string_out = ''\n",
    "        string_out += labeled_list[j]\n",
    "        string2 = labeled_list[j].split('-')\n",
    "        temp_label = []\n",
    "        f.write(string_out)\n",
    "        for st in string2:\n",
    "        \n",
    "            if st in labels:\n",
    "                temp_label.append(st)\n",
    "        temp_label = sorted(list(set(temp_label)))\n",
    "        temp_label.append(sex_list[j])\n",
    "        temp_label.append(str(int(age_list[j])))\n",
    "        for i in range(len(new_labels)):\n",
    "            if len(temp_label) == 0:\n",
    "                f.write(' 0 ')\n",
    "                continue\n",
    "            if new_labels[i] == temp_label[0]:\n",
    "                f.write(' 1 ')\n",
    "                temp_label.pop(0)\n",
    "            else:\n",
    "                f.write(' 0 ')\n",
    "        f.write('\\r\\n')\n"
   ]
  },
  {
   "cell_type": "code",
   "execution_count": null,
   "metadata": {},
   "outputs": [],
   "source": []
  }
 ],
 "metadata": {
  "kernelspec": {
   "display_name": "Python 3",
   "language": "python",
   "name": "python3"
  },
  "language_info": {
   "codemirror_mode": {
    "name": "ipython",
    "version": 3
   },
   "file_extension": ".py",
   "mimetype": "text/x-python",
   "name": "python",
   "nbconvert_exporter": "python",
   "pygments_lexer": "ipython3",
   "version": "3.7.7"
  }
 },
 "nbformat": 4,
 "nbformat_minor": 4
}
